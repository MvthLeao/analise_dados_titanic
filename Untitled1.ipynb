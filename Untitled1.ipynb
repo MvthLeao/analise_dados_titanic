{
  "nbformat": 4,
  "nbformat_minor": 0,
  "metadata": {
    "colab": {
      "provenance": [],
      "authorship_tag": "ABX9TyMKz0kPpZ9qmhC4bV5Oe+FF",
      "include_colab_link": true
    },
    "kernelspec": {
      "name": "python3",
      "display_name": "Python 3"
    },
    "language_info": {
      "name": "python"
    }
  },
  "cells": [
    {
      "cell_type": "markdown",
      "metadata": {
        "id": "view-in-github",
        "colab_type": "text"
      },
      "source": [
        "<a href=\"https://colab.research.google.com/github/MvthLeao/analise_dados_titanic/blob/main/Untitled1.ipynb\" target=\"_parent\"><img src=\"https://colab.research.google.com/assets/colab-badge.svg\" alt=\"Open In Colab\"/></a>"
      ]
    },
    {
      "cell_type": "code",
      "source": [
        "import pandas as pd\n",
        "import seaborn as sns\n",
        "import matplotlib.pyplot as plt\n",
        "\n",
        "# carregando dataset\n",
        "df = sns.load_dataset(\"titanic\")\n",
        "df.to_csv(\"titanic.csv\", index=False)\n",
        "\n",
        "# lendo dados para análise\n",
        "df = pd.read_csv(\"titanic.csv\")\n",
        "\n",
        "# removendo idades nulas\n",
        "df = df.dropna(subset=['age'])\n",
        "\n",
        "# estatísticas da idade\n",
        "estatisticas = df[\"age\"].describe()\n",
        "\n",
        "# salvando estatísticas\n",
        "with open(\"resultado_titanic.txt\", \"w\") as file:\n",
        "    file.write(\"Estatísticas das idades dos passageiros do Titanic:\\n\\n\")\n",
        "    file.write(estatisticas.to_string())\n",
        "\n",
        "print(\"Resultados salvos em: 'resultado_titanic.txt'.\")\n",
        "\n",
        "# distribuições de idades\n",
        "plt.figure(figsize=(8, 5))\n",
        "sns.histplot(df['age'], bins=30, kde=True)\n",
        "\n",
        "# detalhando gráfico\n",
        "plt.title(\"Distribuição de Idade dos Passageiros do Titanic\")\n",
        "plt.xlabel(\"Idade\")\n",
        "plt.ylabel(\"Frequência\")\n",
        "plt.grid(True, alpha=0.5)\n",
        "\n",
        "# salvando gráfico\n",
        "plt.savefig(\"grafico_titanic.png\")\n",
        "print(\"Gráfico salvo em: 'grafico_titanic.png'.\")\n",
        "\n",
        "plt.show()\n",
        "print(\"Sucesso!\")"
      ],
      "metadata": {
        "id": "lPjmiKzdKSdG"
      },
      "execution_count": null,
      "outputs": []
    },
    {
      "cell_type": "code",
      "source": [
        "!python titanic.py"
      ],
      "metadata": {
        "id": "Y77mhGrC7rB9",
        "outputId": "7aa61f48-71a5-466e-bfb8-c6b0b08f94a4",
        "colab": {
          "base_uri": "https://localhost:8080/"
        }
      },
      "execution_count": null,
      "outputs": [
        {
          "output_type": "stream",
          "name": "stdout",
          "text": [
            "Resultados salvos em: 'resultado_titanic.txt'.\n",
            "Gráfico salvo em: 'grafico_titanic.png'.\n",
            "Figure(800x500)\n",
            "Sucesso!\n"
          ]
        }
      ]
    }
  ]
}